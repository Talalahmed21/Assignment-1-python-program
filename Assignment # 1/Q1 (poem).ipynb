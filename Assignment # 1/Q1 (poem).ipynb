{
 "cells": [
  {
   "cell_type": "code",
   "execution_count": 2,
   "metadata": {},
   "outputs": [
    {
     "name": "stdout",
     "output_type": "stream",
     "text": [
      "Twinkle,Twinkle,Little Star, \n",
      "\t How I wonder, What you are!\n",
      " \t \t Up above the world so high,\n",
      " \t \t Like a diamond in the sky,\n",
      "Twinkle,Twinkle,Little star, \n",
      "\t How I wonder, What you are!\n"
     ]
    }
   ],
   "source": [
    "print('Twinkle,Twinkle,Little Star, ') \n",
    "print('\\t How I wonder, What you are!')\n",
    "print(' \\t \\t Up above the world so high,')\n",
    "print(' \\t \\t Like a diamond in the sky,')\n",
    "print('Twinkle,Twinkle,Little star, ')\n",
    "print('\\t How I wonder, What you are!')"
   ]
  }
 ],
 "metadata": {
  "kernelspec": {
   "display_name": "Python 3",
   "language": "python",
   "name": "python3"
  },
  "language_info": {
   "codemirror_mode": {
    "name": "ipython",
    "version": 3
   },
   "file_extension": ".py",
   "mimetype": "text/x-python",
   "name": "python",
   "nbconvert_exporter": "python",
   "pygments_lexer": "ipython3",
   "version": "3.8.5"
  }
 },
 "nbformat": 4,
 "nbformat_minor": 4
}
